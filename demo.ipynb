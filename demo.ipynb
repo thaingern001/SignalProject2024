{
 "cells": [
  {
   "cell_type": "code",
   "execution_count": 13,
   "metadata": {},
   "outputs": [],
   "source": [
    "import numpy as np\n",
    "import librosa\n",
    "import librosa.display\n",
    "import matplotlib.pyplot as plt\n",
    "\n",
    "def frequecy_of_max_magnitude(filename,filter_persent = 20,n =1):\n",
    "    # Load the human voice audio file\n",
    "\n",
    "    y, sr = librosa.load(filename, sr=None)\n",
    "    time = np.linspace(0,len(y)/sr ,len(y))\n",
    "\n",
    "    # Compute Fourier Transform using FFT\n",
    "    N = len(y)  # Number of samples\n",
    "    frequencies = np.fft.rfftfreq(N, d=1/sr)  # Frequency bins\n",
    "    fft_values = np.fft.rfft(y)  # Compute FFT\n",
    "    magnitude = np.abs(fft_values)  # Magnitude spectrum\n",
    "\n",
    "    index =np.argmax(magnitude)\n",
    "    ans = frequencies[index]\n",
    "    \n",
    "    return ans"
   ]
  },
  {
   "cell_type": "code",
   "execution_count": 14,
   "metadata": {},
   "outputs": [
    {
     "name": "stdout",
     "output_type": "stream",
     "text": [
      "163.67280285035628\n"
     ]
    }
   ],
   "source": [
    "print(frequecy_of_max_magnitude(\"Phone/Ee.mp3\"))\n"
   ]
  },
  {
   "cell_type": "code",
   "execution_count": 15,
   "metadata": {},
   "outputs": [
    {
     "data": {
      "text/plain": [
       "'A'"
      ]
     },
     "execution_count": 15,
     "metadata": {},
     "output_type": "execute_result"
    }
   ],
   "source": [
    "def freq_to_note(freq):\n",
    "    while (freq > 165):\n",
    "        freq /= 2\n",
    "    if freq < 80:return \"X\"\n",
    "    if (freq < 84.5):return \"E\"\n",
    "    elif freq < 90 :return \"F\"\n",
    "    elif freq < 95.5 :return \"F#\"\n",
    "    elif freq < 101 :return \"G\"\n",
    "    elif freq < 107 :return \"G#\"\n",
    "    elif freq < 113.5 :return \"A\"\n",
    "    elif freq < 120.5 :return \"A#\"\n",
    "    elif freq < 127.5 :return \"B\"\n",
    "    elif freq < 135 :return \"C\"\n",
    "    elif freq < 143 :return \"C#\"\n",
    "    elif freq < 151.5 :return \"D\"\n",
    "    elif freq < 160.5 :return \"D#\"\n",
    "    else :return \"E\"\n",
    "    \n",
    "\n",
    "freq_to_note(450)"
   ]
  },
  {
   "cell_type": "code",
   "execution_count": 16,
   "metadata": {},
   "outputs": [],
   "source": [
    "\n",
    "\n",
    "import numpy as np\n",
    "import librosa\n",
    "import librosa.display\n",
    "import matplotlib.pyplot as plt\n",
    "\n",
    "def mymodel(filename,filter_persent = 20,n =1):\n",
    "    # Load the human voice audio file\n",
    "\n",
    "    y, sr = librosa.load(filename, sr=None)\n",
    "    time = np.linspace(0,len(y)/sr ,len(y))\n",
    "\n",
    "    # Compute Fourier Transform using FFT\n",
    "    N = len(y)  # Number of samples\n",
    "    frequencies = np.fft.rfftfreq(N, d=1/sr)  # Frequency bins\n",
    "    fft_values = np.fft.rfft(y)  # Compute FFT\n",
    "    magnitude = np.abs(fft_values)  # Magnitude spectrum\n",
    "\n",
    "    # print(frequencies)\n",
    "    # print(magnitude)\n",
    "\n",
    "    # plt.subplot(2,1,1)\n",
    "    # plt.plot(time,y)\n",
    "\n",
    "    # plt.title(\"Amplitude in time\")\n",
    "    # plt.show()\n",
    "\n",
    "    max_mag = max(magnitude)\n",
    "    # print(max_mag)\n",
    "\n",
    "    new_mag = magnitude/max_mag*100\n",
    "    fileter_mag = new_mag.copy()\n",
    "    fileter_mag[fileter_mag < filter_persent] = 0\n",
    "\n",
    "    # plt.subplot(2,1,2)\n",
    "    # plt.plot(frequencies, fileter_mag, color='g')\n",
    "    # plt.xlabel(\"Frequency (Hz)\")\n",
    "    # plt.ylabel(\"Magnitude\")\n",
    "    # plt.title(\"after filter\")\n",
    "    # plt.xlim(0, 600)  # Limit x-axis to 5 kHz (Human voice mostly < 5kHz)\n",
    "    # plt.grid()\n",
    "    # plt.show()\n",
    "    ans = []\n",
    "    for i in range(len(fileter_mag)):\n",
    "        if fileter_mag[i] >= filter_persent:\n",
    "            # print(frequencies[i])\n",
    "            ans.append(int(frequencies[i]))\n",
    "    ans = list(set(ans))\n",
    "    ans.sort()\n",
    "    return ans"
   ]
  },
  {
   "cell_type": "code",
   "execution_count": 17,
   "metadata": {},
   "outputs": [
    {
     "name": "stdout",
     "output_type": "stream",
     "text": [
      "[37, 130, 131, 162, 163, 164, 165, 166, 167, 196, 197, 262, 263, 330, 331, 332, 392, 393, 395, 498, 524, 525, 526, 588, 589, 660, 661, 662, 786, 982, 992, 1322, 1323, 1572, 1573, 1654, 1840]\n"
     ]
    }
   ],
   "source": [
    "freqs = mymodel(\"Cchord.mp3\")\n",
    "# freqs = mymodel(\"Phone/chordDv6.mp3\",10)\n",
    "print(freqs)\n",
    "ans = {'X'}\n",
    "for i in freqs:\n",
    "    if i>600:continue\n",
    "    ans.add(freq_to_note(i))\n",
    "    if len(ans)>=4:break\n",
    "\n",
    "\n",
    "# print(ans)"
   ]
  },
  {
   "cell_type": "code",
   "execution_count": 18,
   "metadata": {},
   "outputs": [],
   "source": [
    "def tell_note(filename): \n",
    "    freqs = mymodel(filename,20)\n",
    "    ans = {'X'}\n",
    "    for i in freqs:\n",
    "        if i>600:continue\n",
    "        ans.add(freq_to_note(i))\n",
    "        if len(ans)>=4:break\n",
    "    # print(ans)\n",
    "    return ans\n"
   ]
  },
  {
   "cell_type": "code",
   "execution_count": 19,
   "metadata": {},
   "outputs": [
    {
     "data": {
      "text/plain": [
       "{'B', 'E', 'G#', 'X'}"
      ]
     },
     "execution_count": 19,
     "metadata": {},
     "output_type": "execute_result"
    }
   ],
   "source": [
    "tell_note(\"Comp/E.mp3\")"
   ]
  },
  {
   "cell_type": "code",
   "execution_count": 20,
   "metadata": {},
   "outputs": [],
   "source": [
    "from itertools import permutations\n",
    "\n",
    "# แผนที่โน้ตเป็นตัวเลข (C = 0, C# = 1, ..., B = 11)\n",
    "note_to_num = {'C': 0, 'C#': 1, 'D': 2, 'D#': 3, 'E': 4, 'F': 5, \n",
    "               'F#': 6, 'G': 7, 'G#': 8, 'A': 9, 'A#': 10, 'B': 11}\n",
    "\n",
    "# แปลงตัวเลขกลับเป็นโน้ต\n",
    "num_to_note = {v: k for k, v in note_to_num.items()}\n",
    "\n",
    "# โครงสร้างคอร์ดพื้นฐาน (intervals จากโน้ตราก)\n",
    "chords = {\n",
    "    \"\": [0, 4, 7],\n",
    "    \"m\": [0, 3, 7]\n",
    "}\n",
    "# chords = {\n",
    "#     \"Major\": [0, 4, 7],\n",
    "#     \"Minor\": [0, 3, 7],\n",
    "#     \"Diminished\": [0, 3, 6],\n",
    "#     \"Augmented\": [0, 4, 8]\n",
    "# }\n",
    "\n",
    "def identify_chord(notes):\n",
    "    # แปลงโน้ตเป็นตัวเลข\n",
    "    nums = [note_to_num[n] for n in notes]\n",
    "    \n",
    "    for perm in permutations(nums):  # ลองทุกลำดับของโน้ต\n",
    "        root = perm[0]\n",
    "        intervals = [(n - root) % 12 for n in perm]\n",
    "        \n",
    "        for chord_name, pattern in chords.items():\n",
    "            if intervals == pattern:\n",
    "                return f\"{num_to_note[root]}{chord_name}\"  # แสดงชื่อคอร์ดที่แท้จริง\n",
    "    \n",
    "    return \"Unknown Chord\"\n",
    "\n",
    "# ทดสอบ\n",
    "# print(identify_chord([\"D\", \"F#\", \"A\"]))  # D Major\n",
    "# print(identify_chord([\"B\", \"D\", \"F#\"]))  # B Minor\n",
    "# print(identify_chord([\"C\", \"E\", \"G\"]))   # C Major\n",
    "# print(identify_chord([\"G\", \"B\", \"D\"]))   # G Major\n",
    "# print(identify_chord([\"A\", \"C\", \"E\"]))   # A Minor\n",
    "\n",
    "def note_to_chord(notes):\n",
    "    note = list(notes)\n",
    "    note.remove('X')\n",
    "    ans = identify_chord(note)\n",
    "    # print(type(note))\n",
    "    return ans\n",
    "\n",
    "# note_to_chord(tell_note(\"Comp/G3.mp3\"))"
   ]
  },
  {
   "cell_type": "code",
   "execution_count": 21,
   "metadata": {},
   "outputs": [
    {
     "data": {
      "text/plain": [
       "'C'"
      ]
     },
     "execution_count": 21,
     "metadata": {},
     "output_type": "execute_result"
    }
   ],
   "source": [
    "note_to_chord(tell_note(\"Comp/C2.mp3\"))"
   ]
  },
  {
   "cell_type": "code",
   "execution_count": 22,
   "metadata": {},
   "outputs": [
    {
     "data": {
      "text/plain": [
       "'B'"
      ]
     },
     "execution_count": 22,
     "metadata": {},
     "output_type": "execute_result"
    }
   ],
   "source": [
    "note_to_chord(tell_note(\"Comp/B.mp3\"))"
   ]
  },
  {
   "cell_type": "code",
   "execution_count": 23,
   "metadata": {},
   "outputs": [],
   "source": [
    "from itertools import permutations\n",
    "import numpy as np\n",
    "import librosa\n",
    "import librosa.display\n",
    "import matplotlib.pyplot as plt\n",
    "\n",
    "def mymodel(filename,filter_persent = 20):\n",
    "\n",
    "    y, sr = librosa.load(filename, sr=None)\n",
    "\n",
    "    N = len(y)  # Number of samples\n",
    "    frequencies = np.fft.rfftfreq(N, d=1/sr)  # Frequency bins\n",
    "    fft_values = np.fft.rfft(y)  # Compute FFT\n",
    "    magnitude = np.abs(fft_values)  # Magnitude spectrum\n",
    "\n",
    "    max_mag = max(magnitude)\n",
    "\n",
    "    new_mag = magnitude/max_mag*100\n",
    "    fileter_mag = new_mag.copy()\n",
    "    fileter_mag[fileter_mag < filter_persent] = 0\n",
    "\n",
    "    ans = []\n",
    "    for i in range(len(fileter_mag)):\n",
    "        if fileter_mag[i] >= filter_persent:\n",
    "            # print(frequencies[i])\n",
    "            ans.append(int(frequencies[i]))\n",
    "    ans = list(set(ans))\n",
    "    ans.sort()\n",
    "    return ans\n",
    "\n",
    "def tell_note(filename,percent = 20): \n",
    "    freqs = mymodel(filename,percent)\n",
    "    ans = {'X'}\n",
    "    for i in freqs:\n",
    "        if i>600:continue\n",
    "        ans.add(freq_to_note(i))\n",
    "        if len(ans)>=4:break\n",
    "    # print(ans)\n",
    "    return ans\n",
    "\n",
    "note_to_num = {'C': 0, 'C#': 1, 'D': 2, 'D#': 3, 'E': 4, 'F': 5, \n",
    "               'F#': 6, 'G': 7, 'G#': 8, 'A': 9, 'A#': 10, 'B': 11}\n",
    "num_to_note = {v: k for k, v in note_to_num.items()}\n",
    "\n",
    "def identify_chord(notes):\n",
    "    # แปลงโน้ตเป็นตัวเลข\n",
    "    nums = [note_to_num[n] for n in notes]\n",
    "    \n",
    "    for perm in permutations(nums):  # ลองทุกลำดับของโน้ต\n",
    "        root = perm[0]\n",
    "        intervals = [(n - root) % 12 for n in perm]\n",
    "        \n",
    "        for chord_name, pattern in chords.items():\n",
    "            if intervals == pattern:\n",
    "                return f\"{num_to_note[root]}{chord_name}\"  # แสดงชื่อคอร์ดที่แท้จริง\n",
    "    \n",
    "    return \"Unknown Chord\"\n",
    "\n",
    "def note_to_chord(notes):\n",
    "    note = list(notes)\n",
    "    note.remove('X')\n",
    "    ans = identify_chord(note)\n",
    "    # print(type(note))\n",
    "    return ans"
   ]
  },
  {
   "cell_type": "code",
   "execution_count": 24,
   "metadata": {},
   "outputs": [
    {
     "name": "stdout",
     "output_type": "stream",
     "text": [
      "{'X', 'D#', 'B', 'F#'}\n",
      "B\n"
     ]
    }
   ],
   "source": [
    "filename = \"Comp/B.mp3\"\n",
    "notes = tell_note(filename)\n",
    "print(notes)\n",
    "\n",
    "chord = note_to_chord(notes)\n",
    "print(chord)"
   ]
  }
 ],
 "metadata": {
  "kernelspec": {
   "display_name": "base",
   "language": "python",
   "name": "python3"
  },
  "language_info": {
   "codemirror_mode": {
    "name": "ipython",
    "version": 3
   },
   "file_extension": ".py",
   "mimetype": "text/x-python",
   "name": "python",
   "nbconvert_exporter": "python",
   "pygments_lexer": "ipython3",
   "version": "3.12.4"
  }
 },
 "nbformat": 4,
 "nbformat_minor": 2
}
